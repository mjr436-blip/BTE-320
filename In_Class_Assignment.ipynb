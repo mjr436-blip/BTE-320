{
  "nbformat": 4,
  "nbformat_minor": 0,
  "metadata": {
    "colab": {
      "provenance": [],
      "authorship_tag": "ABX9TyMvuZ9QMdyzDYTsqqmT8+yI",
      "include_colab_link": true
    },
    "kernelspec": {
      "name": "python3",
      "display_name": "Python 3"
    },
    "language_info": {
      "name": "python"
    }
  },
  "cells": [
    {
      "cell_type": "markdown",
      "metadata": {
        "id": "view-in-github",
        "colab_type": "text"
      },
      "source": [
        "<a href=\"https://colab.research.google.com/github/mjr436-blip/BTE-320/blob/main/In_Class_Assignment.ipynb\" target=\"_parent\"><img src=\"https://colab.research.google.com/assets/colab-badge.svg\" alt=\"Open In Colab\"/></a>"
      ]
    },
    {
      "cell_type": "code",
      "execution_count": null,
      "metadata": {
        "colab": {
          "base_uri": "https://localhost:8080/"
        },
        "id": "JGtD3FLA-kZX",
        "outputId": "0fab9a21-f446-438f-9ebb-f6b49369acd5"
      },
      "outputs": [
        {
          "output_type": "stream",
          "name": "stdout",
          "text": [
            "Enter Sales: 12000\n",
            "Enter Cost of Goods Sold (%): 40\n",
            "Enter Tax Rate(%): 10\n",
            "Sales: $12000.0\n",
            "Cost of Goods sold: $4800.0\n",
            "Gross Profit: $7200.0\n",
            "Tax Rate: %10.0\n",
            "Net Income: $6480.0\n"
          ]
        }
      ],
      "source": [
        "#inputs\n",
        "\n",
        "Sales = input(\"Enter Sales: \")\n",
        "Sales = float(Sales)\n",
        "\n",
        "cogs_pct = input(\"Enter Cost of Goods Sold (%): \")\n",
        "cogs_pct = float(cogs_pct)\n",
        "\n",
        "Tax_rate = input(\"Enter Tax Rate(%): \")\n",
        "Tax_rate = float(Tax_rate)\n",
        "\n",
        "#processes\n",
        "\n",
        "cogs = Sales * cogs_pct / 100\n",
        "GrossProfit = Sales - cogs\n",
        "Taxed = GrossProfit * Tax_rate / 100\n",
        "NetIncome = GrossProfit - Taxed\n",
        "\n",
        "#Display Income Statement\n",
        "\n",
        "print(f\"Sales: ${Sales}\")\n",
        "print(f\"Cost of Goods sold: ${cogs}\")\n",
        "print(f\"Gross Profit: ${GrossProfit}\")\n",
        "print(f\"Tax Rate: %{Tax_rate}\")\n",
        "print(f\"Net Income: ${NetIncome}\")\n"
      ]
    },
    {
      "cell_type": "code",
      "source": [
        "#inputs\n",
        "\n",
        "D = input(\"Enter Demand (Units/Year): \")\n",
        "D = int(D)\n",
        "\n",
        "S = input(\"Enter Reorder Cost ($/Order): \")\n",
        "S = float(S)\n",
        "\n",
        "H = input(\"Enter Holding Cost ($/Unit/Year): \")\n",
        "H = float(H)\n",
        "\n",
        "#processes\n",
        "\n",
        "EOQ = ((2 * D * S) / H) ** 0.5\n",
        "\n",
        "#Outputs\n",
        "\n",
        "print(f\"EOQ: {EOQ} units\")"
      ],
      "metadata": {
        "colab": {
          "base_uri": "https://localhost:8080/"
        },
        "id": "kwHulLn7mpfW",
        "outputId": "4371ae67-692b-4f04-9d9b-1b1092e0af25"
      },
      "execution_count": null,
      "outputs": [
        {
          "output_type": "stream",
          "name": "stdout",
          "text": [
            "Enter Demand (Units/Year): 1000\n",
            "Enter Reorder Cost ($/Order): 50\n",
            "Enter Holding Cost ($/Unit/Year): 10\n",
            "EOQ: 100.0 units\n"
          ]
        }
      ]
    },
    {
      "cell_type": "code",
      "source": [
        "# inputs\n",
        "\n",
        "Number_one = float(input(\"Enter Number One: \"))\n",
        "Number_two = float(input(\"Enter Number Two: \"))\n",
        "Operator = input(\"Enter Operator: \")\n",
        "\n",
        "# Processes\n",
        "\n",
        "if Operator == \"+\":\n",
        "  res = Number_one + Number_two\n",
        "elif Operator == \"-\":\n",
        "  res = Number_one - Number_two\n",
        "elif Operator == \"*\":\n",
        "  res = Number_one * Number_two\n",
        "elif Operator == \"/\":\n",
        "  res = Number_one / Number_two\n",
        "elif Operator == \"//\":\n",
        "  res = Number_one // Number_two\n",
        "elif Operator == \"**\":\n",
        "  res = Number_one ** Number_two\n",
        "elif Operator == \"%\":\n",
        "  res = Number_one % Number_two\n",
        "else:\n",
        "  res = None\n",
        "  print(\"Invalid Operator\")\n",
        "\n",
        "#Outputs\n",
        "\n",
        "print(f\"Result = {res}\")"
      ],
      "metadata": {
        "colab": {
          "base_uri": "https://localhost:8080/"
        },
        "id": "p-HwO76qp7Nc",
        "outputId": "6a16b5ef-6b7c-4e1a-957d-1b45dffa4c30"
      },
      "execution_count": null,
      "outputs": [
        {
          "output_type": "stream",
          "name": "stdout",
          "text": [
            "Enter Number One: 5\n",
            "Enter Number Two: 10\n",
            "Enter Operator: @\n",
            "Invalid Operator\n",
            "Result = None\n"
          ]
        }
      ]
    },
    {
      "cell_type": "markdown",
      "source": [],
      "metadata": {
        "id": "jAnSxjjtrory"
      }
    },
    {
      "cell_type": "code",
      "source": [
        "for hour in range(1,9,1):\n",
        "  fee = 5 + 2.5 * hour\n",
        "\n",
        "  if fee < 10:\n",
        "    fee = 10.0\n",
        "  elif fee > 20:\n",
        "    fee = 20.0\n",
        "\n",
        "  print(hour, fee)\n",
        "\n",
        "\n"
      ],
      "metadata": {
        "colab": {
          "base_uri": "https://localhost:8080/"
        },
        "id": "txqfb0Lm999j",
        "outputId": "6e5cc4fa-2587-4c45-d03a-2b3cfd471081"
      },
      "execution_count": null,
      "outputs": [
        {
          "output_type": "stream",
          "name": "stdout",
          "text": [
            "1 10.0\n",
            "2 10.0\n",
            "3 12.5\n",
            "4 15.0\n",
            "5 17.5\n",
            "6 20.0\n",
            "7 20.0\n",
            "8 20.0\n"
          ]
        }
      ]
    },
    {
      "cell_type": "code",
      "source": [
        "for ad in range(0, 201, 25):\n",
        "  rev = (20 + 2 * ad ** .5) * 10\n",
        "  costs = 200 + ad\n",
        "  profit = rev - costs\n",
        "  print(ad, round(profit, 1))"
      ],
      "metadata": {
        "colab": {
          "base_uri": "https://localhost:8080/"
        },
        "id": "lJIB8DB2ssvf",
        "outputId": "cc11422d-9174-4581-f2a5-45419a248c2a"
      },
      "execution_count": null,
      "outputs": [
        {
          "output_type": "stream",
          "name": "stdout",
          "text": [
            "0 0.0\n",
            "25 75.0\n",
            "50 91.4\n",
            "75 98.2\n",
            "100 100.0\n",
            "125 98.6\n",
            "150 94.9\n",
            "175 89.6\n",
            "200 82.8\n"
          ]
        }
      ]
    },
    {
      "cell_type": "code",
      "source": [
        "numbers = []\n",
        "num = int(input(\"Enter Number: \"))\n",
        "\n",
        "while num != 0:\n",
        "  numbers.append(num)\n",
        "  num = int(input(\"Enter Another Number: \"))\n",
        "\n",
        "numbers.sort(reverse=True)\n",
        "print(numbers)"
      ],
      "metadata": {
        "colab": {
          "base_uri": "https://localhost:8080/"
        },
        "id": "vIPUeDO9Nr-4",
        "outputId": "701d8657-cfce-4604-b68a-391fb13af09f"
      },
      "execution_count": null,
      "outputs": [
        {
          "output_type": "stream",
          "name": "stdout",
          "text": [
            "Enter Number: 1\n",
            "Enter Another Number: 2\n",
            "Enter Another Number: 0\n",
            "[2, 1]\n"
          ]
        }
      ]
    },
    {
      "cell_type": "code",
      "source": [
        "\n",
        "import random\n",
        "\n",
        "def play_game():\n",
        "    print(\"Welcome to Rock, Paper, Scissors!\")\n",
        "\n",
        "    while True:\n",
        "        # Ask user if they want to play\n",
        "        user_choice = input(\"Do you want to play? (yes/no): \").strip().lower()\n",
        "\n",
        "        if user_choice != \"yes\":\n",
        "            print(\"Thanks for playing. Goodbye!\")\n",
        "            break\n",
        "\n",
        "        # Get player's move\n",
        "        player_move = input(\"Choose rock, paper, or scissors: \").strip().lower()\n",
        "\n",
        "        # Computer randomly chooses\n",
        "        computer_move = random.choice([\"rock\", \"paper\", \"scissors\"])\n",
        "        print(f\"The computer chose: {computer_move}\")\n",
        "\n",
        "        # Decide the winner\n",
        "        if player_move == computer_move:\n",
        "            print(\"It's a tie!\")\n",
        "        elif (\n",
        "            (player_move == \"rock\" and computer_move == \"scissors\") or\n",
        "            (player_move == \"paper\" and computer_move == \"rock\") or\n",
        "            (player_move == \"scissors\" and computer_move == \"paper\")\n",
        "        ):\n",
        "            print(\"You win!\")\n",
        "        else:\n",
        "            print(\"You lose!\")\n",
        "\n",
        "if __name__ == \"__main__\":\n",
        "    play_game()"
      ],
      "metadata": {
        "colab": {
          "base_uri": "https://localhost:8080/"
        },
        "id": "VoIFmUyH9PTR",
        "outputId": "560c139c-015e-489d-d2b2-aae640d1fded"
      },
      "execution_count": null,
      "outputs": [
        {
          "output_type": "stream",
          "name": "stdout",
          "text": [
            "Welcome to Rock, Paper, Scissors!\n",
            "Do you want to play? (yes/no): yes\n",
            "Choose rock, paper, or scissors: rock\n",
            "The computer chose: paper\n",
            "You lose!\n",
            "Do you want to play? (yes/no): yes\n",
            "Choose rock, paper, or scissors: rock\n",
            "The computer chose: scissors\n",
            "You win!\n",
            "Do you want to play? (yes/no): yes\n",
            "Choose rock, paper, or scissors: rock\n",
            "The computer chose: scissors\n",
            "You win!\n",
            "Do you want to play? (yes/no): o\n",
            "Thanks for playing. Goodbye!\n"
          ]
        }
      ]
    },
    {
      "cell_type": "code",
      "source": [
        "import random\n",
        "\n",
        "while True:\n",
        "  play = input('do you want to play a game(yes/no)? ').strip().lower()\n",
        "\n",
        "  if play == 'no':\n",
        "    break\n",
        "\n",
        "  user_choice = input('Choose between rock/paper/scissors: ')\n",
        "  pc_choice = random.choice(['rock', 'paper', 'scissors'])\n",
        "  print(f'User: {user_choice}, Computer: {pc_choice}')\n",
        "\n",
        "  if user_choice == pc_choice:\n",
        "    print('Tie')\n",
        "  elif (\n",
        "      (user_choice == 'rock' and pc_choice == 'scissors') or\n",
        "      (user_choice == 'scissors' and pc_choice == 'paper') or\n",
        "      (user_choice == 'paper' and pc_choice == 'rock')\n",
        "      ):\n",
        "    print('You win!')\n",
        "  else:\n",
        "    print('Computer wins.')"
      ],
      "metadata": {
        "colab": {
          "base_uri": "https://localhost:8080/"
        },
        "id": "N9Kp74ezFELw",
        "outputId": "b16895b6-8adb-4a2d-f89c-263848a800f0"
      },
      "execution_count": 4,
      "outputs": [
        {
          "name": "stdout",
          "output_type": "stream",
          "text": [
            "do you want to play a game(yes/no)? yes\n",
            "Choose between rock/paper/scissors: rock\n",
            "User: rock, Computer: paper\n",
            "Computer wins.\n",
            "do you want to play a game(yes/no)? yes\n",
            "Choose between rock/paper/scissors: scissors\n",
            "User: scissors, Computer: paper\n",
            "You win!\n",
            "do you want to play a game(yes/no)? no\n"
          ]
        }
      ]
    },
    {
      "cell_type": "code",
      "source": [
        "products = {\n",
        "    'p-01': 9.95,\n",
        "    'p-02': 10.50\n",
        "}\n",
        "\n",
        "id = input('Enter product ID: ')\n",
        "\n",
        "if id in products:\n",
        "  print(f'ID: {id}, Price: ${products[id]}')\n",
        "else:\n",
        "  print(f'{id} not found')"
      ],
      "metadata": {
        "colab": {
          "base_uri": "https://localhost:8080/"
        },
        "id": "njy5okiwQBqf",
        "outputId": "1c5fa0e4-896f-46f0-d1aa-35fe0de59f49"
      },
      "execution_count": 6,
      "outputs": [
        {
          "output_type": "stream",
          "name": "stdout",
          "text": [
            "Enter product ID: s\n",
            "s not found\n"
          ]
        }
      ]
    }
  ]
}