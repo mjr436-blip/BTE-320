{
  "nbformat": 4,
  "nbformat_minor": 0,
  "metadata": {
    "colab": {
      "provenance": [],
      "authorship_tag": "ABX9TyP8WTvWLC6tyuB+5XE4jYQ+",
      "include_colab_link": true
    },
    "kernelspec": {
      "name": "python3",
      "display_name": "Python 3"
    },
    "language_info": {
      "name": "python"
    }
  },
  "cells": [
    {
      "cell_type": "markdown",
      "metadata": {
        "id": "view-in-github",
        "colab_type": "text"
      },
      "source": [
        "<a href=\"https://colab.research.google.com/github/mjr436-blip/BTE-320/blob/main/In_Class_Assignment.ipynb\" target=\"_parent\"><img src=\"https://colab.research.google.com/assets/colab-badge.svg\" alt=\"Open In Colab\"/></a>"
      ]
    },
    {
      "cell_type": "code",
      "execution_count": null,
      "metadata": {
        "colab": {
          "base_uri": "https://localhost:8080/"
        },
        "id": "JGtD3FLA-kZX",
        "outputId": "0fab9a21-f446-438f-9ebb-f6b49369acd5"
      },
      "outputs": [
        {
          "output_type": "stream",
          "name": "stdout",
          "text": [
            "Enter Sales: 12000\n",
            "Enter Cost of Goods Sold (%): 40\n",
            "Enter Tax Rate(%): 10\n",
            "Sales: $12000.0\n",
            "Cost of Goods sold: $4800.0\n",
            "Gross Profit: $7200.0\n",
            "Tax Rate: %10.0\n",
            "Net Income: $6480.0\n"
          ]
        }
      ],
      "source": [
        "#inputs\n",
        "\n",
        "Sales = input(\"Enter Sales: \")\n",
        "Sales = float(Sales)\n",
        "\n",
        "cogs_pct = input(\"Enter Cost of Goods Sold (%): \")\n",
        "cogs_pct = float(cogs_pct)\n",
        "\n",
        "Tax_rate = input(\"Enter Tax Rate(%): \")\n",
        "Tax_rate = float(Tax_rate)\n",
        "\n",
        "#processes\n",
        "\n",
        "cogs = Sales * cogs_pct / 100\n",
        "GrossProfit = Sales - cogs\n",
        "Taxed = GrossProfit * Tax_rate / 100\n",
        "NetIncome = GrossProfit - Taxed\n",
        "\n",
        "#Display Income Statement\n",
        "\n",
        "print(f\"Sales: ${Sales}\")\n",
        "print(f\"Cost of Goods sold: ${cogs}\")\n",
        "print(f\"Gross Profit: ${GrossProfit}\")\n",
        "print(f\"Tax Rate: %{Tax_rate}\")\n",
        "print(f\"Net Income: ${NetIncome}\")\n"
      ]
    },
    {
      "cell_type": "code",
      "source": [
        "#inputs\n",
        "\n",
        "D = input(\"Enter Demand (Units/Year): \")\n",
        "D = int(D)\n",
        "\n",
        "S = input(\"Enter Reorder Cost ($/Order): \")\n",
        "S = float(S)\n",
        "\n",
        "H = input(\"Enter Holding Cost ($/Unit/Year): \")\n",
        "H = float(H)\n",
        "\n",
        "#processes\n",
        "\n",
        "EOQ = ((2 * D * S) / H) ** 0.5\n",
        "\n",
        "#Outputs\n",
        "\n",
        "print(f\"EOQ: {EOQ} units\")"
      ],
      "metadata": {
        "colab": {
          "base_uri": "https://localhost:8080/"
        },
        "id": "kwHulLn7mpfW",
        "outputId": "4371ae67-692b-4f04-9d9b-1b1092e0af25"
      },
      "execution_count": null,
      "outputs": [
        {
          "output_type": "stream",
          "name": "stdout",
          "text": [
            "Enter Demand (Units/Year): 1000\n",
            "Enter Reorder Cost ($/Order): 50\n",
            "Enter Holding Cost ($/Unit/Year): 10\n",
            "EOQ: 100.0 units\n"
          ]
        }
      ]
    },
    {
      "cell_type": "code",
      "source": [
        "# inputs\n",
        "\n",
        "Number_one = float(input(\"Enter Number One: \"))\n",
        "Number_two = float(input(\"Enter Number Two: \"))\n",
        "Operator = input(\"Enter Operator: \")\n",
        "\n",
        "# Processes\n",
        "\n",
        "if Operator == \"+\":\n",
        "  res = Number_one + Number_two\n",
        "elif Operator == \"-\":\n",
        "  res = Number_one - Number_two\n",
        "elif Operator == \"*\":\n",
        "  res = Number_one * Number_two\n",
        "elif Operator == \"/\":\n",
        "  res = Number_one / Number_two\n",
        "elif Operator == \"//\":\n",
        "  res = Number_one // Number_two\n",
        "elif Operator == \"**\":\n",
        "  res = Number_one ** Number_two\n",
        "elif Operator == \"%\":\n",
        "  res = Number_one % Number_two\n",
        "else:\n",
        "  res = None\n",
        "  print(\"Invalid Operator\")\n",
        "\n",
        "#Outputs\n",
        "\n",
        "print(f\"Result = {res}\")"
      ],
      "metadata": {
        "colab": {
          "base_uri": "https://localhost:8080/"
        },
        "id": "p-HwO76qp7Nc",
        "outputId": "6a16b5ef-6b7c-4e1a-957d-1b45dffa4c30"
      },
      "execution_count": null,
      "outputs": [
        {
          "output_type": "stream",
          "name": "stdout",
          "text": [
            "Enter Number One: 5\n",
            "Enter Number Two: 10\n",
            "Enter Operator: @\n",
            "Invalid Operator\n",
            "Result = None\n"
          ]
        }
      ]
    },
    {
      "cell_type": "markdown",
      "source": [],
      "metadata": {
        "id": "jAnSxjjtrory"
      }
    },
    {
      "cell_type": "code",
      "source": [
        "for hour in range(1,9,1):\n",
        "  fee = 5 + 2.5 * hour\n",
        "\n",
        "  if fee < 10:\n",
        "    fee = 10.0\n",
        "  elif fee > 20:\n",
        "    fee = 20.0\n",
        "\n",
        "  print(hour, fee)\n",
        "\n",
        "\n"
      ],
      "metadata": {
        "colab": {
          "base_uri": "https://localhost:8080/"
        },
        "id": "txqfb0Lm999j",
        "outputId": "6e5cc4fa-2587-4c45-d03a-2b3cfd471081"
      },
      "execution_count": 23,
      "outputs": [
        {
          "output_type": "stream",
          "name": "stdout",
          "text": [
            "1 10.0\n",
            "2 10.0\n",
            "3 12.5\n",
            "4 15.0\n",
            "5 17.5\n",
            "6 20.0\n",
            "7 20.0\n",
            "8 20.0\n"
          ]
        }
      ]
    }
  ]
}